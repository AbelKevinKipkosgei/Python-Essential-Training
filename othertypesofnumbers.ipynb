{
 "cells": [
  {
   "cell_type": "code",
   "execution_count": 1,
   "id": "3b524f21-829f-4378-a668-d65071d2527f",
   "metadata": {},
   "outputs": [
    {
     "data": {
      "text/plain": [
       "6909"
      ]
     },
     "execution_count": 1,
     "metadata": {},
     "output_type": "execute_result"
    }
   ],
   "source": [
    "int (\"1afd\", 16)"
   ]
  },
  {
   "cell_type": "code",
   "execution_count": 8,
   "id": "bdb13679-07f4-430c-ae7e-b9e57a91e986",
   "metadata": {},
   "outputs": [
    {
     "data": {
      "text/plain": [
       "2"
      ]
     },
     "execution_count": 8,
     "metadata": {},
     "output_type": "execute_result"
    }
   ],
   "source": [
    "int (\"10\", 2)"
   ]
  },
  {
   "cell_type": "code",
   "execution_count": 9,
   "id": "5098390b-b4a9-47d3-bb45-ab4562db045a",
   "metadata": {},
   "outputs": [
    {
     "data": {
      "text/plain": [
       "73"
      ]
     },
     "execution_count": 9,
     "metadata": {},
     "output_type": "execute_result"
    }
   ],
   "source": [
    "int (\"1001001\", 2)"
   ]
  },
  {
   "cell_type": "code",
   "execution_count": 16,
   "id": "30b4f8fd-636d-490c-b319-cba6a37d2313",
   "metadata": {},
   "outputs": [
    {
     "data": {
      "text/plain": [
       "Decimal('0.3333')"
      ]
     },
     "execution_count": 16,
     "metadata": {},
     "output_type": "execute_result"
    }
   ],
   "source": [
    "from decimal import Decimal, getcontext\n",
    "getcontext().prec = 4\n",
    "Decimal(1) / Decimal(3)"
   ]
  },
  {
   "cell_type": "code",
   "execution_count": null,
   "id": "40f883bd-0196-4c5f-9ec4-90a426030ac2",
   "metadata": {},
   "outputs": [],
   "source": []
  }
 ],
 "metadata": {
  "kernelspec": {
   "display_name": "Python 3 (ipykernel)",
   "language": "python",
   "name": "python3"
  },
  "language_info": {
   "codemirror_mode": {
    "name": "ipython",
    "version": 3
   },
   "file_extension": ".py",
   "mimetype": "text/x-python",
   "name": "python",
   "nbconvert_exporter": "python",
   "pygments_lexer": "ipython3",
   "version": "3.12.5"
  }
 },
 "nbformat": 4,
 "nbformat_minor": 5
}
