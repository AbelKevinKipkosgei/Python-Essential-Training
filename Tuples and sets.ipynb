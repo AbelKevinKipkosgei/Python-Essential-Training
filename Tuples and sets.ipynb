{
 "cells": [
  {
   "cell_type": "markdown",
   "id": "84302127-7e09-4cd5-a134-5f36e65d6112",
   "metadata": {},
   "source": [
    "# Sets"
   ]
  },
  {
   "cell_type": "code",
   "execution_count": 1,
   "id": "a935c3a4-941e-4cc8-8a1c-c4f8b2150f07",
   "metadata": {},
   "outputs": [],
   "source": [
    "my_set = {'a','b','c'}"
   ]
  },
  {
   "cell_type": "code",
   "execution_count": 2,
   "id": "873eab40-ee24-4172-864e-f0733056adb1",
   "metadata": {},
   "outputs": [
    {
     "name": "stdout",
     "output_type": "stream",
     "text": [
      "{'a', 'b', 'c'}\n"
     ]
    }
   ],
   "source": [
    "print (my_set)"
   ]
  },
  {
   "cell_type": "code",
   "execution_count": 3,
   "id": "5628d286-71ae-48d4-b219-9c5c81608291",
   "metadata": {},
   "outputs": [
    {
     "data": {
      "text/plain": [
       "{'a', 'b', 'c'}"
      ]
     },
     "execution_count": 3,
     "metadata": {},
     "output_type": "execute_result"
    }
   ],
   "source": [
    "my_set1 = set(('a','b','c'))\n",
    "my_set1"
   ]
  },
  {
   "cell_type": "code",
   "execution_count": 7,
   "id": "b8a2a346-ffff-4a98-83eb-49b0c50e9ec9",
   "metadata": {},
   "outputs": [
    {
     "name": "stdout",
     "output_type": "stream",
     "text": [
      "['a', 'd', 'b', 'c']\n"
     ]
    }
   ],
   "source": [
    "my_list = ['a','a','b','b','c','c','d','d']\n",
    "new_list = list(set(my_list))\n",
    "print(new_list)"
   ]
  },
  {
   "cell_type": "code",
   "execution_count": 9,
   "id": "4ea928cc-6fed-43ff-a55b-1ac1a67c4de4",
   "metadata": {},
   "outputs": [
    {
     "name": "stdout",
     "output_type": "stream",
     "text": [
      "{'a', 'e', 'b', 'c'}\n"
     ]
    }
   ],
   "source": [
    "my_set.add('e')\n",
    "print(my_set)"
   ]
  },
  {
   "cell_type": "code",
   "execution_count": 10,
   "id": "45427d1d-dc28-4283-b06b-afb32b61d325",
   "metadata": {},
   "outputs": [
    {
     "name": "stdout",
     "output_type": "stream",
     "text": [
      "{'d', 'b', 'c', 'a', 'e'}\n"
     ]
    }
   ],
   "source": [
    "my_set.add('d')\n",
    "print(my_set)"
   ]
  },
  {
   "cell_type": "code",
   "execution_count": 11,
   "id": "152931c9-5dd9-40b0-bb7e-9ff6b52f660d",
   "metadata": {},
   "outputs": [
    {
     "name": "stdout",
     "output_type": "stream",
     "text": [
      "{'d', 'z', 'b', 'c', 'a', 'e'}\n"
     ]
    }
   ],
   "source": [
    "my_set.add('z')\n",
    "print(my_set)"
   ]
  },
  {
   "cell_type": "code",
   "execution_count": 12,
   "id": "5fd0ccdf-7504-4290-8557-e8b5194ce8a6",
   "metadata": {},
   "outputs": [
    {
     "name": "stdout",
     "output_type": "stream",
     "text": [
      "{'z', 'b', 'c', 'a', 'e'}\n"
     ]
    }
   ],
   "source": [
    "my_set.pop()\n",
    "print(my_set)"
   ]
  },
  {
   "cell_type": "code",
   "execution_count": 18,
   "id": "7c241046-6c55-434d-bd29-7a3da6f6841a",
   "metadata": {},
   "outputs": [
    {
     "name": "stdout",
     "output_type": "stream",
     "text": [
      "d\n",
      "f\n",
      "g\n",
      "b\n",
      "c\n",
      "a\n",
      "h\n",
      "e\n"
     ]
    }
   ],
   "source": [
    "my_set2 = {'a','b','c','d','e','f','g','h'}\n",
    "while len(my_set2):\n",
    "    print(my_set2.pop())"
   ]
  },
  {
   "cell_type": "code",
   "execution_count": 19,
   "id": "ee750cfa-6d14-4382-9eba-d601a3157333",
   "metadata": {},
   "outputs": [
    {
     "data": {
      "text/plain": [
       "False"
      ]
     },
     "execution_count": 19,
     "metadata": {},
     "output_type": "execute_result"
    }
   ],
   "source": [
    "'a' in my_set2"
   ]
  },
  {
   "cell_type": "code",
   "execution_count": 20,
   "id": "869d68c5-48e6-4027-819e-2371e619fb1c",
   "metadata": {},
   "outputs": [
    {
     "data": {
      "text/plain": [
       "False"
      ]
     },
     "execution_count": 20,
     "metadata": {},
     "output_type": "execute_result"
    }
   ],
   "source": [
    "'b' in my_set2"
   ]
  },
  {
   "cell_type": "code",
   "execution_count": 21,
   "id": "8ec1a1f4-6597-4805-857b-ca7a01623722",
   "metadata": {},
   "outputs": [
    {
     "name": "stdout",
     "output_type": "stream",
     "text": [
      "set()\n"
     ]
    }
   ],
   "source": [
    "print(my_set2)"
   ]
  },
  {
   "cell_type": "code",
   "execution_count": 22,
   "id": "1077d158-3360-4853-89fe-0fc9e62968fc",
   "metadata": {},
   "outputs": [
    {
     "data": {
      "text/plain": [
       "set()"
      ]
     },
     "execution_count": 22,
     "metadata": {},
     "output_type": "execute_result"
    }
   ],
   "source": [
    "my_set2"
   ]
  },
  {
   "cell_type": "code",
   "execution_count": 23,
   "id": "9abd4118-1e7c-4c11-bf54-8d375845b6c2",
   "metadata": {},
   "outputs": [
    {
     "name": "stdout",
     "output_type": "stream",
     "text": [
      "{'b', 'c'}\n"
     ]
    }
   ],
   "source": [
    "my_set1.discard('a')\n",
    "print(my_set1)"
   ]
  },
  {
   "cell_type": "markdown",
   "id": "f1e0a6c8-6ae9-4c81-a798-ba55931b24ac",
   "metadata": {},
   "source": [
    "# Tuples"
   ]
  },
  {
   "cell_type": "code",
   "execution_count": 24,
   "id": "6b2480ac-5fcc-4b2c-b6bc-08fe1240704d",
   "metadata": {},
   "outputs": [
    {
     "name": "stdout",
     "output_type": "stream",
     "text": [
      "('a', 'b', 'c', 'd')\n"
     ]
    }
   ],
   "source": [
    "my_tuple = ('a','b','c','d')\n",
    "print(my_tuple)"
   ]
  },
  {
   "cell_type": "code",
   "execution_count": 25,
   "id": "1b0b2915-4ea9-42d3-8050-fca5399609c9",
   "metadata": {},
   "outputs": [
    {
     "name": "stdout",
     "output_type": "stream",
     "text": [
      "a\n"
     ]
    }
   ],
   "source": [
    "print(my_tuple[0])"
   ]
  }
 ],
 "metadata": {
  "kernelspec": {
   "display_name": "Python 3 (ipykernel)",
   "language": "python",
   "name": "python3"
  },
  "language_info": {
   "codemirror_mode": {
    "name": "ipython",
    "version": 3
   },
   "file_extension": ".py",
   "mimetype": "text/x-python",
   "name": "python",
   "nbconvert_exporter": "python",
   "pygments_lexer": "ipython3",
   "version": "3.12.5"
  }
 },
 "nbformat": 4,
 "nbformat_minor": 5
}
