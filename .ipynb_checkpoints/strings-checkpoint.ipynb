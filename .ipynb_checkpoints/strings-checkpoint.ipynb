{
 "cells": [
  {
   "cell_type": "code",
   "execution_count": 16,
   "id": "12f4a8db-0ae6-4e2c-95c3-807d52715711",
   "metadata": {},
   "outputs": [],
   "source": [
    "import math"
   ]
  },
  {
   "cell_type": "markdown",
   "id": "12ef3391-3978-40e4-be81-61c658f5cbfb",
   "metadata": {},
   "source": [
    "# Strings"
   ]
  },
  {
   "cell_type": "markdown",
   "id": "ac0cff0d-df1a-4474-ab5a-1a68c0d85bc1",
   "metadata": {},
   "source": [
    "## Slicing"
   ]
  },
  {
   "cell_type": "code",
   "execution_count": 5,
   "id": "1dbbb3b1-3bf3-4604-8bd4-cf2614086436",
   "metadata": {},
   "outputs": [
    {
     "data": {
      "text/plain": [
       "'M'"
      ]
     },
     "execution_count": 5,
     "metadata": {},
     "output_type": "execute_result"
    }
   ],
   "source": [
    "name = \"My name is Abel Kevin\"\n",
    "name [0]"
   ]
  },
  {
   "cell_type": "code",
   "execution_count": 6,
   "id": "503989a7-3a3b-4e69-b53e-ce08c4c6e25d",
   "metadata": {},
   "outputs": [
    {
     "data": {
      "text/plain": [
       "'My name'"
      ]
     },
     "execution_count": 6,
     "metadata": {},
     "output_type": "execute_result"
    }
   ],
   "source": [
    "name [:7]"
   ]
  },
  {
   "cell_type": "code",
   "execution_count": 7,
   "id": "cca14810-0b08-480b-a07e-90e5ad254102",
   "metadata": {},
   "outputs": [
    {
     "data": {
      "text/plain": [
       "'Abel Kevin'"
      ]
     },
     "execution_count": 7,
     "metadata": {},
     "output_type": "execute_result"
    }
   ],
   "source": [
    "name [11:]"
   ]
  },
  {
   "cell_type": "code",
   "execution_count": 8,
   "id": "0d3c05c4-a3f6-41fc-a714-a8d1829d0ae9",
   "metadata": {},
   "outputs": [
    {
     "data": {
      "text/plain": [
       "21"
      ]
     },
     "execution_count": 8,
     "metadata": {},
     "output_type": "execute_result"
    }
   ],
   "source": [
    "len(name)"
   ]
  },
  {
   "cell_type": "code",
   "execution_count": 9,
   "id": "6ad9aa73-f898-486d-b1b3-4129e14710b4",
   "metadata": {},
   "outputs": [
    {
     "data": {
      "text/plain": [
       "5"
      ]
     },
     "execution_count": 9,
     "metadata": {},
     "output_type": "execute_result"
    }
   ],
   "source": [
    "myList = [1,2,3,4,5]\n",
    "len(myList)"
   ]
  },
  {
   "cell_type": "code",
   "execution_count": 10,
   "id": "9747dd0f-8b0e-4002-8c3a-b1aa6d3f4a6c",
   "metadata": {},
   "outputs": [
    {
     "data": {
      "text/plain": [
       "[3, 4]"
      ]
     },
     "execution_count": 10,
     "metadata": {},
     "output_type": "execute_result"
    }
   ],
   "source": [
    "myList [2:4]"
   ]
  },
  {
   "cell_type": "markdown",
   "id": "f6141be8-b448-4b53-8374-aef901f5753b",
   "metadata": {},
   "source": [
    "## Formatting"
   ]
  },
  {
   "cell_type": "code",
   "execution_count": 11,
   "id": "89aa45b8-719e-4003-9750-c103d74a412c",
   "metadata": {},
   "outputs": [
    {
     "data": {
      "text/plain": [
       "'My number is: 5'"
      ]
     },
     "execution_count": 11,
     "metadata": {},
     "output_type": "execute_result"
    }
   ],
   "source": [
    "\"My number is: \" + str(5)"
   ]
  },
  {
   "cell_type": "code",
   "execution_count": 14,
   "id": "9655d824-3570-4f9d-b2d5-c48140dd6c0e",
   "metadata": {},
   "outputs": [
    {
     "data": {
      "text/plain": [
       "'My number is: 5 and twice that is 10'"
      ]
     },
     "execution_count": 14,
     "metadata": {},
     "output_type": "execute_result"
    }
   ],
   "source": [
    "f\"My number is: {5} and twice that is {5*2}\""
   ]
  },
  {
   "cell_type": "code",
   "execution_count": 17,
   "id": "b5f27ebb-1e6c-4fe0-9250-3688af29b02a",
   "metadata": {},
   "outputs": [
    {
     "data": {
      "text/plain": [
       "'Pi is:  3.14'"
      ]
     },
     "execution_count": 17,
     "metadata": {},
     "output_type": "execute_result"
    }
   ],
   "source": [
    "f\"Pi is: {math.pi: 0.2f}\""
   ]
  },
  {
   "cell_type": "markdown",
   "id": "4468c2b6-b935-40d6-befb-a9c21c187954",
   "metadata": {},
   "source": [
    "## MultiLine Strings"
   ]
  },
  {
   "cell_type": "code",
   "execution_count": 25,
   "id": "269fd09f-8f10-432e-9866-bf259422529e",
   "metadata": {},
   "outputs": [
    {
     "name": "stdout",
     "output_type": "stream",
     "text": [
      "\n",
      "Here is a long block of text.\n",
      "I can add newlines.\n",
      "It will only stop when it sees \"\"\"\n",
      "\n"
     ]
    }
   ],
   "source": [
    "myString = \"\"\"\n",
    "Here is a long block of text.\n",
    "I can add new lines.\n",
    "It will only stop when it sees \\\"\\\"\\\"\n",
    "\"\"\"\n",
    "print(myString)"
   ]
  },
  {
   "cell_type": "code",
   "execution_count": 24,
   "id": "c66212ac-730b-4b0d-a596-62ab902694a4",
   "metadata": {},
   "outputs": [
    {
     "data": {
      "text/plain": [
       "'\\nHere is a long block of text.\\nI can add newlines.\\nIt will only stop when it sees \"\"\"\\n'"
      ]
     },
     "execution_count": 24,
     "metadata": {},
     "output_type": "execute_result"
    }
   ],
   "source": [
    "myString"
   ]
  },
  {
   "cell_type": "code",
   "execution_count": null,
   "id": "5e264366-cdcc-488e-a8f3-3e5305381450",
   "metadata": {},
   "outputs": [],
   "source": []
  }
 ],
 "metadata": {
  "kernelspec": {
   "display_name": "Python 3 (ipykernel)",
   "language": "python",
   "name": "python3"
  },
  "language_info": {
   "codemirror_mode": {
    "name": "ipython",
    "version": 3
   },
   "file_extension": ".py",
   "mimetype": "text/x-python",
   "name": "python",
   "nbconvert_exporter": "python",
   "pygments_lexer": "ipython3",
   "version": "3.10.12"
  }
 },
 "nbformat": 4,
 "nbformat_minor": 5
}
